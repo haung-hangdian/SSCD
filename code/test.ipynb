{
 "cells": [
  {
   "cell_type": "code",
   "execution_count": 1,
   "metadata": {},
   "outputs": [],
   "source": [
    "import torch\n",
    "import os"
   ]
  },
  {
   "cell_type": "code",
   "execution_count": 2,
   "metadata": {},
   "outputs": [],
   "source": [
    "def calculate_entropy(pred_block):\n",
    "    # Calculate the entropy for a given block\n",
    "    entropy = -torch.sum(pred_block * torch.log(pred_block + 1e-10), dim=0)\n",
    "    return entropy\n",
    "\n",
    "def upc(label_image, unlabel_image, pred, label, N, k):\n",
    "    _, _, h, w = pred.shape\n",
    "    G = torch.zeros(N * N)\n",
    "    h_new, w_new = h // N, w // N\n",
    "    pred_soft = torch.softmax(pred, dim=1)\n",
    "    print(pred_soft.shape)\n",
    "    pred_argmax = torch.argmax(pred_soft,dim=1)\n",
    "    mask = torch.zeros((h, w), dtype=torch.bool).unsqueeze(0)\n",
    "    p = 0\n",
    "    for i in range(N):\n",
    "        for j in range(N): \n",
    "            block = pred_soft[:, N*i:N*(i+1), N*j:N*(j+1)]\n",
    "            \n",
    "            entropy = calculate_entropy(block)\n",
    "\n",
    "            G[p] = entropy.mean().item()\n",
    "            p += 1\n",
    "    \n",
    "    _, topk_idx = torch.topk(G, k)\n",
    "    \n",
    "    for idx in topk_idx:\n",
    "        row = idx // N\n",
    "        col = idx % N\n",
    "        mask[:, row*h_new:(row+1)*h_new, col*w_new:(col+1)*w_new] = True\n",
    "    \n",
    "    mask_F = ~mask\n",
    "    pesudo = pred_argmax * mask_F + label * mask\n",
    "    unlabel_image = unlabel_image * mask_F + label_image * mask\n",
    "    \n",
    "    return unlabel_image, pesudo    \n",
    "    "
   ]
  },
  {
   "cell_type": "code",
   "execution_count": 3,
   "metadata": {},
   "outputs": [
    {
     "name": "stdout",
     "output_type": "stream",
     "text": [
      "torch.Size([2, 3, 512, 512])\n",
      "torch.Size([2, 512, 512])\n"
     ]
    }
   ],
   "source": [
    "label_image = torch.rand(2,3,512,512)\n",
    "unlabel_image = torch.rand(2,3,512,512)\n",
    "pred = torch.rand(2,53,512,512)\n",
    "label = torch.rand(2,512,512)\n",
    "k = 3\n",
    "N = 16\n",
    "unlabel_image, psesudo = upc(label_image, unlabel_image, pred, label, N, k)\n",
    "print(unlabel_image.shape)\n",
    "print(psesudo.shape)"
   ]
  }
 ],
 "metadata": {
  "kernelspec": {
   "display_name": "SegDiff",
   "language": "python",
   "name": "python3"
  },
  "language_info": {
   "codemirror_mode": {
    "name": "ipython",
    "version": 3
   },
   "file_extension": ".py",
   "mimetype": "text/x-python",
   "name": "python",
   "nbconvert_exporter": "python",
   "pygments_lexer": "ipython3",
   "version": "3.8.12"
  }
 },
 "nbformat": 4,
 "nbformat_minor": 2
}
